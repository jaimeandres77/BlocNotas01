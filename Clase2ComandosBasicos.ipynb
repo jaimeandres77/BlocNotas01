{
  "nbformat": 4,
  "nbformat_minor": 0,
  "metadata": {
    "colab": {
      "name": "Clase2ComandosBasicos.ipynb",
      "provenance": [],
      "authorship_tag": "ABX9TyOCOZeqG1ClN5cmRW7T398Y",
      "include_colab_link": true
    },
    "kernelspec": {
      "name": "python3",
      "display_name": "Python 3"
    }
  },
  "cells": [
    {
      "cell_type": "markdown",
      "metadata": {
        "id": "view-in-github",
        "colab_type": "text"
      },
      "source": [
        "<a href=\"https://colab.research.google.com/github/jaimeandres77/BlocNotas01/blob/master/Clase2ComandosBasicos.ipynb\" target=\"_parent\"><img src=\"https://colab.research.google.com/assets/colab-badge.svg\" alt=\"Open In Colab\"/></a>"
      ]
    },
    {
      "cell_type": "code",
      "metadata": {
        "id": "7DPhtMbTsnQJ",
        "colab_type": "code",
        "colab": {}
      },
      "source": [
        "import cv2\n",
        "import tensorflow\n",
        "import torch\n",
        "import numpy as np #Libreria para trabajar con matrices y vectores mas rapido."
      ],
      "execution_count": 0,
      "outputs": []
    },
    {
      "cell_type": "markdown",
      "metadata": {
        "id": "TEebjpvC0ZLL",
        "colab_type": "text"
      },
      "source": [
        "**Creación de Variables**"
      ]
    },
    {
      "cell_type": "code",
      "metadata": {
        "id": "CuDInLQ-wK0V",
        "colab_type": "code",
        "colab": {
          "base_uri": "https://localhost:8080/",
          "height": 34
        },
        "outputId": "2a165ce1-0264-4a9c-cb67-576c94b96f47"
      },
      "source": [
        "x=0  #Entero\n",
        "x2=0.0  #Flotante\n",
        "x3=True  #boolean\n",
        "x4=\"hola\"  #txt\n",
        "print(\"xxxx = \",x,x2,x3,x4)"
      ],
      "execution_count": 11,
      "outputs": [
        {
          "output_type": "stream",
          "text": [
            "xxxx =  0 0.0 True hola\n"
          ],
          "name": "stdout"
        }
      ]
    },
    {
      "cell_type": "markdown",
      "metadata": {
        "id": "KlXlzY4g0QNR",
        "colab_type": "text"
      },
      "source": [
        "**Creacion de** **Listas**"
      ]
    },
    {
      "cell_type": "code",
      "metadata": {
        "id": "i1nm0odCzIti",
        "colab_type": "code",
        "colab": {
          "base_uri": "https://localhost:8080/",
          "height": 51
        },
        "outputId": "19cab8d2-f1d5-485f-8d9b-1d0c5e3b8c77"
      },
      "source": [
        "y=[1,2,3,4,5]  #Lista\n",
        "print(y[0]) \n",
        "y[0]=10\n",
        "print(y)"
      ],
      "execution_count": 14,
      "outputs": [
        {
          "output_type": "stream",
          "text": [
            "1\n",
            "[10, 2, 3, 4, 5]\n"
          ],
          "name": "stdout"
        }
      ]
    },
    {
      "cell_type": "code",
      "metadata": {
        "id": "geOvy24-0nfq",
        "colab_type": "code",
        "colab": {
          "base_uri": "https://localhost:8080/",
          "height": 34
        },
        "outputId": "a49355f0-9430-4295-f2d4-6c18f9c80762"
      },
      "source": [
        "y.append(-5)\n",
        "print(y)"
      ],
      "execution_count": 15,
      "outputs": [
        {
          "output_type": "stream",
          "text": [
            "[10, 2, 3, 4, 5, -5]\n"
          ],
          "name": "stdout"
        }
      ]
    },
    {
      "cell_type": "code",
      "metadata": {
        "id": "XaSFkl0Z07pN",
        "colab_type": "code",
        "colab": {
          "base_uri": "https://localhost:8080/",
          "height": 34
        },
        "outputId": "3efddf34-4e65-4e60-9b7f-17c749e9e81c"
      },
      "source": [
        "del y[0]\n",
        "print(y)"
      ],
      "execution_count": 16,
      "outputs": [
        {
          "output_type": "stream",
          "text": [
            "[2, 3, 4, 5, -5]\n"
          ],
          "name": "stdout"
        }
      ]
    },
    {
      "cell_type": "code",
      "metadata": {
        "id": "XkCF-Nq21L7g",
        "colab_type": "code",
        "colab": {
          "base_uri": "https://localhost:8080/",
          "height": 34
        },
        "outputId": "557e4581-48e7-4229-bc37-2f2fd0dbfa27"
      },
      "source": [
        "y.remove(4)\n",
        "print(y)"
      ],
      "execution_count": 17,
      "outputs": [
        {
          "output_type": "stream",
          "text": [
            "[2, 3, 5, -5]\n"
          ],
          "name": "stdout"
        }
      ]
    },
    {
      "cell_type": "code",
      "metadata": {
        "id": "UByMR3231iEQ",
        "colab_type": "code",
        "colab": {
          "base_uri": "https://localhost:8080/",
          "height": 34
        },
        "outputId": "5635fc92-49a4-4711-ebd3-4953449a5d3e"
      },
      "source": [
        "z=[2,2,2,4,5,6]\n",
        "z.remove(2)\n",
        "print(z)"
      ],
      "execution_count": 19,
      "outputs": [
        {
          "output_type": "stream",
          "text": [
            "[2, 2, 4, 5, 6]\n"
          ],
          "name": "stdout"
        }
      ]
    },
    {
      "cell_type": "markdown",
      "metadata": {
        "id": "Rzg209gY2XZj",
        "colab_type": "text"
      },
      "source": [
        "**Metodos**"
      ]
    },
    {
      "cell_type": "code",
      "metadata": {
        "id": "xkXiP4MQ2Joq",
        "colab_type": "code",
        "colab": {}
      },
      "source": [
        "def sum(a,b):\n",
        "  s=a+b\n",
        "  return s\n",
        "\n"
      ],
      "execution_count": 0,
      "outputs": []
    },
    {
      "cell_type": "code",
      "metadata": {
        "id": "gCJ163vl32Ld",
        "colab_type": "code",
        "colab": {
          "base_uri": "https://localhost:8080/",
          "height": 34
        },
        "outputId": "6f8e19d9-555a-43f9-f887-a680050272c8"
      },
      "source": [
        "#Perimetro de un Cuadrado\n",
        "def sum(l):\n",
        "  Perimetro=4*l\n",
        "  return Perimetro\n",
        "\n",
        "def Area(l):\n",
        "  Area= l*l\n",
        "  return Area\n",
        "\n",
        "def Cuadrado(l):\n",
        "  x= Area(l)\n",
        "  y= sum(l)\n",
        "  return x,y\n",
        "Cuadrado(2)  \n",
        "  "
      ],
      "execution_count": 34,
      "outputs": [
        {
          "output_type": "execute_result",
          "data": {
            "text/plain": [
              "(4, 8)"
            ]
          },
          "metadata": {
            "tags": []
          },
          "execution_count": 34
        }
      ]
    },
    {
      "cell_type": "code",
      "metadata": {
        "id": "0o3o8l3m_Ltt",
        "colab_type": "code",
        "colab": {
          "base_uri": "https://localhost:8080/",
          "height": 34
        },
        "outputId": "c96ba4d3-e0d0-4aa2-e5d0-872cca9c7f16"
      },
      "source": [
        "def Peri(Lado1, Lado2):\n",
        "  Perimetro= Lado1*2 + Lado2*2\n",
        "  return Perimetro\n",
        "\n",
        "def Area(Lado1,Lado2):\n",
        "  Area= Lado1*Lado2\n",
        "  return Area\n",
        "\n",
        "def Cuadrado(Lado1,Lado2):\n",
        "  return Peri(Lado1, Lado2), Area(Lado1, Lado2)\n",
        "Cuadrado(3,3)\n",
        "  "
      ],
      "execution_count": 41,
      "outputs": [
        {
          "output_type": "execute_result",
          "data": {
            "text/plain": [
              "(12, 9)"
            ]
          },
          "metadata": {
            "tags": []
          },
          "execution_count": 41
        }
      ]
    },
    {
      "cell_type": "code",
      "metadata": {
        "id": "xi0PLGChA3dq",
        "colab_type": "code",
        "colab": {}
      },
      "source": [
        ""
      ],
      "execution_count": 0,
      "outputs": []
    }
  ]
}